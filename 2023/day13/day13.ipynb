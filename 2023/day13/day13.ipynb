{
 "cells": [
  {
   "cell_type": "code",
   "execution_count": 83,
   "metadata": {},
   "outputs": [
    {
     "name": "stdout",
     "output_type": "stream",
     "text": [
      "4\n",
      "5\n",
      "405\n",
      "30487\n"
     ]
    }
   ],
   "source": [
    "import numpy as np\n",
    "from pathlib import Path\n",
    "\n",
    "def is_vertical_reflection_pt(b: np.ndarray, y: int) -> bool:\n",
    "    Y = b.shape[0]\n",
    "    n = min(y, Y-y)\n",
    "    #print(f'{n=} \\n {np.flip(b[y-n:y,:], axis=0)} \\n\\n {b[y:y+n,:]}')\n",
    "    #print(np.flip(b[y-n:y,:], axis=0) == b[y:y+n,:])\n",
    "    return np.array_equal(np.flip(b[y-n:y,:], axis=0), b[y:y+n,:])\n",
    "\n",
    "def find_vertical_reflection_pt(b: np.ndarray, avoid: int=0) -> int:\n",
    "    ' Returns 0 if not found '\n",
    "    Y = b.shape[0]\n",
    "    found_reflection = 0\n",
    "    for y in range(1, Y):\n",
    "        if y == avoid:\n",
    "            continue\n",
    "        old = found_reflection\n",
    "        if is_vertical_reflection_pt(b, y):\n",
    "            if old != 0: print(f'More than one reflection {old}, {y}')\n",
    "            found_reflection = y\n",
    "    return found_reflection\n",
    "\n",
    "def find_reflection_score(b: np.ndarray) -> int:\n",
    "    return 100 * find_vertical_reflection_pt(b) + find_vertical_reflection_pt(b.T)\n",
    "\n",
    "def graphics_to_matrix(s: str):\n",
    "    l = []\n",
    "    for line in s.splitlines():\n",
    "        l.append([(1 if c=='#' else 0) for c in line.strip()])\n",
    "    return np.array(l, dtype=np.uint8)\n",
    "\n",
    "b1 = graphics_to_matrix('''\\\n",
    "#...##..#\n",
    "#....#..#\n",
    "..##..###\n",
    "#####.##.\n",
    "#####.##.\n",
    "..##..###\n",
    "#....#..#''')\n",
    "\n",
    "b2 = graphics_to_matrix('''\\\n",
    "#.##..##.\n",
    "..#.##.#.\n",
    "##......#\n",
    "##......#\n",
    "..#.##.#.\n",
    "..##..##.\n",
    "#.#.##.#.''')\n",
    "\n",
    "if True:\n",
    "    #print(is_vertical_reflection_pt(b, 4))\n",
    "    print(find_vertical_reflection_pt(b1))\n",
    "    print(find_vertical_reflection_pt(b2.T))\n",
    "    print(find_reflection_score(b1) + find_reflection_score(b2))\n",
    "\n",
    "input_puzzles_text = Path('input.txt').read_text().split('\\n\\n')\n",
    "puzzles = [graphics_to_matrix(x) for x in input_puzzles_text]\n",
    "print(sum((find_reflection_score(p) for p in puzzles)))"
   ]
  },
  {
   "cell_type": "code",
   "execution_count": 84,
   "metadata": {},
   "outputs": [
    {
     "name": "stdout",
     "output_type": "stream",
     "text": [
      "31954\n"
     ]
    }
   ],
   "source": [
    "def reflection_score_with_smudge(b: np.ndarray) -> int:\n",
    "    y0 = find_vertical_reflection_pt(b)\n",
    "    x0 = find_vertical_reflection_pt(b.T)\n",
    "    x_final, y_final = 0, 0\n",
    "    Y,X = b.shape\n",
    "    for y in range(Y):\n",
    "        for x in range(X):\n",
    "            b[y,x] = 1-b[y,x]\n",
    "            y1 = find_vertical_reflection_pt(b, avoid=y0)\n",
    "            x1 = find_vertical_reflection_pt(b.T, avoid=x0)\n",
    "            if y1 != 0 and y1 != y0:\n",
    "                y_final = y1\n",
    "            if x1 != 0 and x1 != x0:\n",
    "                x_final = x1\n",
    "            b[y,x] = 1-b[y,x]\n",
    "    assert x_final != 0 or y_final != 0\n",
    "    return 100 * y_final + x_final\n",
    "\n",
    "#print(reflection_score_with_smudge(b1) + reflection_score_with_smudge(b2))\n",
    "b6 = graphics_to_matrix('''\\\n",
    ".#...##..#.#...##\n",
    "..#..##...####.#.\n",
    "#.##..#..#..###..\n",
    ".#.##..##.#...###\n",
    "###..#..#.###...#\n",
    ".##..#####..#..##\n",
    ".##..#####..#..##\n",
    "###..#..#.###...#\n",
    ".#.##..##.#...##.\n",
    "#.##..#..#..###..\n",
    "..#..##...####.#.\n",
    ".#...##..#.#...##\n",
    "#..####.#....#.#.\n",
    "#..#.....#..##..#\n",
    "#..#.....#..##..#''')\n",
    "#b6[3,16] = 1 - b6[3,16]; print('??', is_vertical_reflection_pt(b6, 6))\n",
    "#print(reflection_score_with_smudge(b6))\n",
    "print(sum((reflection_score_with_smudge(p) for p in puzzles)))"
   ]
  }
 ],
 "metadata": {
  "kernelspec": {
   "display_name": "default3.12",
   "language": "python",
   "name": "python3"
  },
  "language_info": {
   "codemirror_mode": {
    "name": "ipython",
    "version": 3
   },
   "file_extension": ".py",
   "mimetype": "text/x-python",
   "name": "python",
   "nbconvert_exporter": "python",
   "pygments_lexer": "ipython3",
   "version": "3.12.1"
  }
 },
 "nbformat": 4,
 "nbformat_minor": 2
}
