{
 "cells": [
  {
   "cell_type": "code",
   "execution_count": 51,
   "metadata": {},
   "outputs": [],
   "source": [
    "import numpy as np\n",
    "\n",
    "series = []\n",
    "with open('input.txt') as f:\n",
    "    for line in f:\n",
    "        series.append(np.array([x for x in line.split()], dtype=np.int64))"
   ]
  },
  {
   "cell_type": "code",
   "execution_count": 34,
   "metadata": {},
   "outputs": [],
   "source": [
    "def expand_last(series: np.ndarray) -> int:\n",
    "    s = series\n",
    "    last_values = [series[-1]]\n",
    "    while True:\n",
    "        s = np.diff(s)\n",
    "        if all(s == 0):\n",
    "            break\n",
    "        last_values.append(s[-1])\n",
    "    back_track = last_values[-1]\n",
    "    for value in last_values[-2::-1]:\n",
    "        back_track += value\n",
    "    return back_track\n",
    "\n",
    "#expand_last(np.array([10,  13,  16,  21,  30,  45]))"
   ]
  },
  {
   "cell_type": "code",
   "execution_count": 54,
   "metadata": {},
   "outputs": [
    {
     "data": {
      "text/plain": [
       "1904165718"
      ]
     },
     "execution_count": 54,
     "metadata": {},
     "output_type": "execute_result"
    }
   ],
   "source": [
    "# PART 1\n",
    "sum((expand_last(s) for s in series))"
   ]
  },
  {
   "cell_type": "code",
   "execution_count": 55,
   "metadata": {},
   "outputs": [],
   "source": [
    "def expand_first(series: np.ndarray) -> int:\n",
    "    s = series\n",
    "    first_values = [series[0]]\n",
    "    while True:\n",
    "        s = np.diff(s)\n",
    "        if all(s == 0):\n",
    "            break\n",
    "        first_values.append(s[0])\n",
    "    back_track = first_values[-1]\n",
    "    for value in first_values[-2::-1]:\n",
    "        back_track = value - back_track\n",
    "    return back_track\n",
    "\n",
    "#expand_first(np.array([10,  13,  16,  21,  30,  45]))"
   ]
  },
  {
   "cell_type": "code",
   "execution_count": 53,
   "metadata": {},
   "outputs": [
    {
     "data": {
      "text/plain": [
       "964"
      ]
     },
     "execution_count": 53,
     "metadata": {},
     "output_type": "execute_result"
    }
   ],
   "source": [
    "# PART 2\n",
    "sum((expand_first(s) for s in series))"
   ]
  }
 ],
 "metadata": {
  "kernelspec": {
   "display_name": "default3.12",
   "language": "python",
   "name": "python3"
  },
  "language_info": {
   "codemirror_mode": {
    "name": "ipython",
    "version": 3
   },
   "file_extension": ".py",
   "mimetype": "text/x-python",
   "name": "python",
   "nbconvert_exporter": "python",
   "pygments_lexer": "ipython3",
   "version": "3.12.0"
  }
 },
 "nbformat": 4,
 "nbformat_minor": 2
}
