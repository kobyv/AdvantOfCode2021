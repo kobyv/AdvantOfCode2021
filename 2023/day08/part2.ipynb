{
 "cells": [
  {
   "cell_type": "code",
   "execution_count": 18,
   "metadata": {},
   "outputs": [],
   "source": [
    "import numpy as np\n",
    "from math import gcd, lcm\n",
    "from functools import reduce\n",
    "\n",
    "graph = {}\n",
    "\n",
    "with open(\"input.txt\") as input:\n",
    "    directions = input.readline().rstrip()\n",
    "    directions = directions.replace(\"R\", \"1\").replace(\"L\", \"0\")\n",
    "    input.readline()  # skip empty line\n",
    "\n",
    "    for line in input:\n",
    "        node, sides = line.rstrip().split(\" = \")\n",
    "        left, right = sides[1:-1].split(\", \")\n",
    "        graph[node] = (left, right)"
   ]
  },
  {
   "cell_type": "code",
   "execution_count": 4,
   "metadata": {},
   "outputs": [],
   "source": [
    "# z_steps_table[state][steps % len(directions)]\n",
    "# gives the number of steps to the next Z state and the next state:\n",
    "# (steps, next_state)\n",
    "z_steps_table = {}\n",
    "def build_z_steps_table():\n",
    "    for initial_state in graph.keys():\n",
    "        if initial_state[-1] != \"Z\" and initial_state[-1] != \"A\":\n",
    "            continue\n",
    "        z_steps_table[initial_state] = [0] * len(graph)\n",
    "        for offset in range(len(directions)):\n",
    "            steps = 0\n",
    "            state = initial_state\n",
    "            while steps == 0 or state[-1] != \"Z\":\n",
    "                dir2go = int(directions[(steps + offset) % len(directions)])\n",
    "                steps += 1\n",
    "                state = graph[state][dir2go]\n",
    "                assert steps < 1_000_000\n",
    "            z_steps_table[initial_state][offset] = (steps, state)\n",
    "\n",
    "build_z_steps_table()"
   ]
  },
  {
   "cell_type": "code",
   "execution_count": 8,
   "metadata": {},
   "outputs": [
    {
     "name": "stdout",
     "output_type": "stream",
     "text": [
      "diff change: 2 11309\n",
      "diff change: 0 13939\n",
      "diff change: 5 15517\n",
      "diff change: 1 17621\n",
      "diff change: 4 19199\n",
      "diff change: 3 20777\n"
     ]
    }
   ],
   "source": [
    "starting_list = [x for x in graph if x[-1] == \"A\"]\n",
    "steps = [z_steps_table[z][0][0] for z in starting_list]\n",
    "states= [z_steps_table[z][0][1] for z in starting_list]\n",
    "assert all((z>0 for z in steps))\n",
    "diff = [0] * len(steps)\n",
    "for rounds in range(100):\n",
    "    i = np.argmin(steps)\n",
    "    new_step_tuple = z_steps_table[states[i]][steps[i] % len(directions)]\n",
    "    steps[i] += new_step_tuple[0]\n",
    "    if diff[i] != new_step_tuple[0]:\n",
    "        print('diff change:', i, new_step_tuple[0])\n",
    "    diff[i] = new_step_tuple[0]\n",
    "    states[i] = new_step_tuple[1]\n"
   ]
  },
  {
   "cell_type": "markdown",
   "metadata": {},
   "source": [
    "Note that we got a constant step per starting state, which means that they will all overlap at the LCM(diff)"
   ]
  },
  {
   "cell_type": "code",
   "execution_count": 16,
   "metadata": {},
   "outputs": [
    {
     "data": {
      "text/plain": [
       "13663968099527"
      ]
     },
     "execution_count": 16,
     "metadata": {},
     "output_type": "execute_result"
    }
   ],
   "source": [
    "# Solution to part 2\n",
    "reduce(lcm, diff, 1)"
   ]
  },
  {
   "cell_type": "markdown",
   "metadata": {},
   "source": [
    "## Some fun\n",
    "\n",
    "Let's find the GCD of them:"
   ]
  },
  {
   "cell_type": "code",
   "execution_count": 21,
   "metadata": {},
   "outputs": [
    {
     "data": {
      "text/plain": [
       "263"
      ]
     },
     "execution_count": 21,
     "metadata": {},
     "output_type": "execute_result"
    }
   ],
   "source": [
    "g = reduce(gcd, diff, diff[0])\n",
    "g"
   ]
  },
  {
   "cell_type": "code",
   "execution_count": 27,
   "metadata": {},
   "outputs": [
    {
     "data": {
      "text/plain": [
       "array([53, 67, 43, 79, 73, 59])"
      ]
     },
     "execution_count": 27,
     "metadata": {},
     "output_type": "execute_result"
    }
   ],
   "source": [
    "diff_g = np.array(diff) // g\n",
    "diff_g"
   ]
  },
  {
   "cell_type": "code",
   "execution_count": 29,
   "metadata": {},
   "outputs": [
    {
     "data": {
      "text/plain": [
       "13663968099527"
      ]
     },
     "execution_count": 29,
     "metadata": {},
     "output_type": "execute_result"
    }
   ],
   "source": [
    "# Now they are co-prime, so let's multiply and get the same solution\n",
    "\n",
    "np.prod(diff_g) * g"
   ]
  }
 ],
 "metadata": {
  "kernelspec": {
   "display_name": "default3.12",
   "language": "python",
   "name": "python3"
  },
  "language_info": {
   "codemirror_mode": {
    "name": "ipython",
    "version": 3
   },
   "file_extension": ".py",
   "mimetype": "text/x-python",
   "name": "python",
   "nbconvert_exporter": "python",
   "pygments_lexer": "ipython3",
   "version": "3.12.0"
  }
 },
 "nbformat": 4,
 "nbformat_minor": 2
}
